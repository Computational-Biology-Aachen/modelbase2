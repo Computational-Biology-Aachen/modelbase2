{
 "cells": [
  {
   "cell_type": "code",
   "execution_count": null,
   "id": "d8fb1742",
   "metadata": {},
   "outputs": [],
   "source": [
    "from mxlpy import Model, fns\n",
    "from mxlpy.types import Parameter\n",
    "\n",
    "\n",
    "def create_linear_chain_model() -> Model:\n",
    "    return (\n",
    "        Model()\n",
    "        .add_parameters(\n",
    "            {\n",
    "                \"k_in\": 1.0,  # this one isn't annotated\n",
    "                \"k_1\": Parameter(1, unit=\"a.u.\"),\n",
    "                \"k_out\": Parameter(1, unit=\"a.u.\", source=\"whereever\"),\n",
    "            }\n",
    "        )\n",
    "        .add_variables({\"S\": 0, \"P\": 0})\n",
    "        .add_reaction(\n",
    "            \"v0\",\n",
    "            fn=fns.constant,\n",
    "            args=[\"k_in\"],\n",
    "            stoichiometry={\"S\": 1},  # produces one S\n",
    "        )\n",
    "        .add_reaction(\n",
    "            \"v1\",\n",
    "            fn=fns.mass_action_1s,\n",
    "            args=[\"k_1\", \"S\"],  # note that the order needs to match `proportional`\n",
    "            stoichiometry={\"S\": -1, \"P\": 1},  # consumes one S and produces one P\n",
    "        )\n",
    "        .add_reaction(\n",
    "            \"v2\",\n",
    "            fn=fns.mass_action_1s,\n",
    "            args=[\"k_out\", \"P\"],  # note that the order needs to match `proportional`\n",
    "            stoichiometry={\"P\": -1},  # exports one P\n",
    "        )\n",
    "    )\n",
    "\n",
    "\n",
    "model = create_linear_chain_model()"
   ]
  },
  {
   "cell_type": "code",
   "execution_count": null,
   "id": "ee3c055c",
   "metadata": {},
   "outputs": [],
   "source": [
    "model.parameters"
   ]
  },
  {
   "cell_type": "code",
   "execution_count": null,
   "id": "3ce199e0",
   "metadata": {},
   "outputs": [],
   "source": [
    "model.display_parameters()"
   ]
  },
  {
   "cell_type": "code",
   "execution_count": null,
   "id": "f990dc48",
   "metadata": {},
   "outputs": [],
   "source": []
  }
 ],
 "metadata": {
  "kernelspec": {
   "display_name": ".venv",
   "language": "python",
   "name": "python3"
  },
  "language_info": {
   "codemirror_mode": {
    "name": "ipython",
    "version": 3
   },
   "file_extension": ".py",
   "mimetype": "text/x-python",
   "name": "python",
   "nbconvert_exporter": "python",
   "pygments_lexer": "ipython3",
   "version": "3.12.8"
  }
 },
 "nbformat": 4,
 "nbformat_minor": 5
}
